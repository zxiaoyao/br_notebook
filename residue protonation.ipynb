{
 "metadata": {
  "name": ""
 },
 "nbformat": 3,
 "nbformat_minor": 0,
 "worksheets": [
  {
   "cells": [
    {
     "cell_type": "code",
     "collapsed": false,
     "input": [
      "import os\n",
      "import matplotlib.pylab as plt\n",
      "\n",
      "def draw_titration(dirPath, residues=[\"GLUA0194\", \"GLUA0204\"]):\n",
      "    '''\n",
      "    Plot titration curves of residues from the file \"sum_out.crg\".\n",
      "    '''\n",
      "    \n",
      "    if not os.path.exists(dirPath):\n",
      "        raise Exception(\"Directory %s doesn't exist\" % dirPath)\n",
      "    if not os.path.exists(os.path.join(dirPath, \"sum_crg.out\")):\n",
      "        raise Exception(\"sum_crg.out doesn't exist in %s\" % dirPath)\n",
      "    \n",
      "    fp = open(os.path.join(dirPath, \"sum_crg.out\"))\n",
      "    headline = fp.readline()\n",
      "    titrType = headline.split()[0]\n",
      "    titrPoints = [float(p) for p in headline.split()[1:]]\n",
      "    \n",
      "    fig, ax = plt.subplots()\n",
      "    ax.set_title(\"%s titration curve\" % titrType)\n",
      "    ax.set_xlabel(titrType)\n",
      "    ax.set_xticks(titrPoints)\n",
      "    \n",
      "    for eachLine in fp:\n",
      "        fields = eachLine.split()\n",
      "        resName = fields[0][:3] + fields[0][4:9]\n",
      "        if resName in residues:\n",
      "            charges = fields[1:]\n",
      "            ax.plot(titrPoints, charges, label=resName)\n",
      "    ax.legend()\n",
      "    \n",
      "\n",
      "draw_titration(\"/Users/xzhu/sibyl/BR2/1C8S/crystal/def/raw/FreeMcce\")"
     ],
     "language": "python",
     "metadata": {},
     "outputs": [],
     "prompt_number": 1
    },
    {
     "cell_type": "code",
     "collapsed": false,
     "input": [],
     "language": "python",
     "metadata": {},
     "outputs": []
    }
   ],
   "metadata": {}
  }
 ]
}