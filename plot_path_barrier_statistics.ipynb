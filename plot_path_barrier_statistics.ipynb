{
 "metadata": {
  "name": ""
 },
 "nbformat": 3,
 "nbformat_minor": 0,
 "worksheets": [
  {
   "cells": [
    {
     "cell_type": "code",
     "collapsed": false,
     "input": [
      "# %pylab inline\n",
      "'''Display the distribution of the energy barriers \n",
      "in three different directories for three pdbs, respectively.'''\n",
      "\n",
      "import matplotlib.pyplot as plt\n",
      "import numpy as np\n",
      "import os\n",
      "\n",
      "# from IPython.core.display import Image \n",
      "# Image(filename='/Users/xzhu/Dropbox/xuyu-pk-paper/br_final/nb/figures/path_eBarrier_statistics.png') \n",
      "\n",
      "PATH_FILE = \"pathStatistics.txt\"\n",
      "\n",
      "exampleFile = '''\n",
      "path1     ASPA0085  HOHX0292  ARGA0082  HOHX0358  GLUA0194  -579.530    11.240\n",
      "path2     ASPA0085  HOHX0292  ARGA0082  HOHA0405  GLUA0194  -579.540    12.130\n",
      "path3     ASPA0085  HOHX0290  ARGA0082  HOHX0358  GLUA0194   415.480    10.990\n",
      "path4     ASPA0085  HOHX0290  ARGA0082  HOHA0405  GLUA0194   415.640    12.380\n",
      "path5     ASPA0085  HOHX0292  ARGA0082  HOHX0358  HOHA0405  GLUA0194  -579.150    11.660\n",
      "path6     ASPA0085  HOHX0292  ARGA0082  HOHA0405  HOHX0358  GLUA0194  -578.980    11.120\n",
      "path7     ASPA0085  HOHX0292  ARGA0082  HOHA0405  TYRA0083  GLUA0194  -579.270    18.220\n",
      "path8     ASPA0085  HOHX0290  ARGA0082  HOHX0358  HOHA0405  GLUA0194   414.950    11.030\n",
      "path9     ASPA0085  HOHX0290  ARGA0082  HOHA0405  HOHX0358  GLUA0194   415.170    12.830\n",
      "path10    ASPA0085  HOHX0290  ARGA0082  HOHA0405  TYRA0083  GLUA0194   415.740    17.320\n",
      "'''\n",
      "\n",
      "class PathBarrier(object):\n",
      "    def __init__(self):\n",
      "        self.pathName = \"\"\n",
      "        self.residues = []\n",
      "        self.initE = 0.0\n",
      "        self.barrier = 0.0\n",
      "        \n",
      "    def initFromLine(self, line):\n",
      "        fields = line.split()\n",
      "        self.pathName = fields[0]\n",
      "        self.residues = fields[1:-2]\n",
      "        self.initE = float(fields[-2])\n",
      "        self.barrier = float(fields[-1])\n",
      "\n",
      "\n",
      "def loadAllPaths(fName=PATH_FILE):\n",
      "    res = []\n",
      "    for line in open(fName):\n",
      "        newPath = PathBarrier()\n",
      "        newPath.initFromLine(line)\n",
      "        res.append(newPath)\n",
      "        \n",
      "    return res\n",
      "\n",
      "# the directories the program will visit.\n",
      "pdbNames = [\"1C3W\", \"1C8R\", \"1KG9\"]\n",
      "pdbDirs = [\"/Users/xzhu/sibyl/BR2/1C3W/hydro/def/raw_O\", \n",
      "          \"/Users/xzhu/sibyl/BR2/1C8R/hydro/def/raw_O\", \n",
      "          \"/Users/xzhu/sibyl/BR2/1KG9/hydro/def/raw_O\"] \n",
      "\n",
      "offset = 0.1  # the distance between y axis and the first line\n",
      "shift = 0     # the distance between two lines\n",
      "\n",
      "fig, axes = plt.subplots()\n",
      "axes.set_title(\"path eBarrier statistics\")\n",
      "axes.set_xlabel(\"pdb name\")\n",
      "axes.set_ylabel(\"energy barrier(Kcal/mol)\")\n",
      "\n",
      "xticks = []\n",
      "\n",
      "for eachDir in pdbDirs:\n",
      "    os.chdir(eachDir)\n",
      "    allPaths = loadAllPaths()\n",
      "    \n",
      "    x = np.ones(len(allPaths)) * (offset+shift)\n",
      "    xticks.append(offset+shift)\n",
      "    shift += 1\n",
      "    eBarrier = np.array([eachPath.barrier for eachPath in allPaths])\n",
      "    axes.plot(x, eBarrier, ls='_', marker=\"_\", markersize=13)\n",
      "\n",
      "axes.set_xlim(0, xticks[-1]+offset)\n",
      "axes.set_xticks(xticks)\n",
      "axes.set_xticklabels(pdbNames)"
     ],
     "language": "python",
     "metadata": {},
     "outputs": [
      {
       "metadata": {},
       "output_type": "pyout",
       "prompt_number": 25,
       "text": [
        "[<matplotlib.text.Text at 0x10c424f90>,\n",
        " <matplotlib.text.Text at 0x10c42a4d0>,\n",
        " <matplotlib.text.Text at 0x10c488210>]"
       ]
      },
      {
       "metadata": {},
       "output_type": "display_data",
       "png": "[encoded data removed]",
       "text": [
        "<matplotlib.figure.Figure at 0x10c404310>"
       ]
      }
     ],
     "prompt_number": 25
    },
    {
     "cell_type": "code",
     "collapsed": false,
     "input": [],
     "language": "python",
     "metadata": {},
     "outputs": []
    }
   ],
   "metadata": {}
  }
 ]
}