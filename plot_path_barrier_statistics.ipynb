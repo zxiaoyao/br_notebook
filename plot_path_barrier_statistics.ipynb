{
 "metadata": {
  "name": ""
 },
 "nbformat": 3,
 "nbformat_minor": 0,
 "worksheets": [
  {
   "cells": [
    {
     "cell_type": "code",
     "collapsed": false,
     "input": [
      "import os\n",
      "os.chdir(\"/Users/xzhu/sibyl/BR2/1C3W/hydro/quick/raw_O\")\n",
      "pathFile = \"pathStatistics.txt\""
     ],
     "language": "python",
     "metadata": {},
     "outputs": [],
     "prompt_number": 14
    },
    {
     "cell_type": "code",
     "collapsed": false,
     "input": [
      "import matplotlib.pyplot as plt\n",
      "import numpy as np\n",
      "\n",
      "exampleFile = '''\n",
      "path1     ASPA0085  HOHX0292  ARGA0082  HOHX0358  GLUA0194  -579.530    11.240\n",
      "path2     ASPA0085  HOHX0292  ARGA0082  HOHA0405  GLUA0194  -579.540    12.130\n",
      "path3     ASPA0085  HOHX0290  ARGA0082  HOHX0358  GLUA0194   415.480    10.990\n",
      "path4     ASPA0085  HOHX0290  ARGA0082  HOHA0405  GLUA0194   415.640    12.380\n",
      "path5     ASPA0085  HOHX0292  ARGA0082  HOHX0358  HOHA0405  GLUA0194  -579.150    11.660\n",
      "path6     ASPA0085  HOHX0292  ARGA0082  HOHA0405  HOHX0358  GLUA0194  -578.980    11.120\n",
      "path7     ASPA0085  HOHX0292  ARGA0082  HOHA0405  TYRA0083  GLUA0194  -579.270    18.220\n",
      "path8     ASPA0085  HOHX0290  ARGA0082  HOHX0358  HOHA0405  GLUA0194   414.950    11.030\n",
      "path9     ASPA0085  HOHX0290  ARGA0082  HOHA0405  HOHX0358  GLUA0194   415.170    12.830\n",
      "path10    ASPA0085  HOHX0290  ARGA0082  HOHA0405  TYRA0083  GLUA0194   415.740    17.320\n",
      "'''\n",
      "\n",
      "class PathBarrier(object):\n",
      "    def __init__(self):\n",
      "        self.pathName = \"\"\n",
      "        self.residues = []\n",
      "        self.initE = 0.0\n",
      "        self.barrier = 0.0\n",
      "        \n",
      "    def initFromLine(self, line):\n",
      "        fields = line.split()\n",
      "        self.pathName = fields[0]\n",
      "        self.residues = fields[1:-2]\n",
      "        self.initE = float(fields[-2])\n",
      "        self.barrier = float(fields[-1])\n",
      "\n",
      "pathFile = \"pathStatistics.txt\"\n",
      "\n",
      "def loadAllPaths(fName=pathFile):\n",
      "    res = []\n",
      "    for line in open(fName):\n",
      "        newPath = PathBarrier()\n",
      "        newPath.initFromLine(line)\n",
      "        res.append(newPath)\n",
      "        \n",
      "    return res\n",
      "\n",
      "allPaths = loadAllPaths()\n",
      "x = np.ones(len(allPaths))\n",
      "eBarrier = np.array([eachPath.barrier for eachPath in allPaths])\n",
      "# xticks = np.arange(len(allPaths))\n",
      "xticklabels = [eachPath.pathName for eachPath in allPaths]\n",
      "\n",
      "fig, axes = plt.subplots()\n",
      "\n",
      "axes.set_title(\"path eBarrier statistics\")\n",
      "axes.plot(x, eBarrier, ls='_', marker=\"_\")\n",
      "axes.set_xlabel(\"pathName\")\n",
      "# axes.set_xlim([0, len(allPaths)-1])\n",
      "# axes.set_xticks(xticks)\n",
      "axes.set_xticks([1])\n",
      "# axes.set_xticklabels(xticklabels)\n",
      "\n",
      "axes.set_ylabel(\"energy barrier(Kcal/mol)\")\n",
      "plt.show()"
     ],
     "language": "python",
     "metadata": {},
     "outputs": [],
     "prompt_number": 40
    },
    {
     "cell_type": "code",
     "collapsed": false,
     "input": [],
     "language": "python",
     "metadata": {},
     "outputs": [],
     "prompt_number": 20
    },
    {
     "cell_type": "code",
     "collapsed": false,
     "input": [],
     "language": "python",
     "metadata": {},
     "outputs": []
    }
   ],
   "metadata": {}
  }
 ]
}